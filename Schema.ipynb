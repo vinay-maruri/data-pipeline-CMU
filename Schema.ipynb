{
    "cells": [
        {
            "cell_type": "markdown",
            "metadata": {},
            "source": [
                "Schema Design (College Scorecard Dataset)\n",
                "\n",
                "Vinay Maruri, Shane Hauck, Xiaowen Wu"
            ]
        },
        {
            "cell_type": "code",
            "execution_count": null,
            "metadata": {
                "azdata_cell_guid": "93bda33e-a41e-4486-8178-e33d71c07b53",
                "language": "sql"
            },
            "outputs": [],
            "source": [
                "CREATE TABLE InstitutionInformation (\n",
                "    UNITID INTEGER PRIMARY KEY,\n",
                "    INSTNM TEXT,\n",
                "    LOCATION TEXT,\n",
                "    ADDR TEXT,\n",
                "    REGION INTEGER,\n",
                "    CONTROL INTEGER,\n",
                "    CCBASIC INTEGER,\n",
                "    CENSUSIDS INTEGER,\n",
                "    LATITUDE INTEGER,\n",
                "    LONGITUD INTEGER,\n",
                "    ACCREDAGENCY TEXT,\n",
                "    PREDDEG INTEGER,\n",
                "    HIGHDEG INTEGER,\n",
                "    AVGFACSAL INTEGER\n",
                ");\n",
                "\n",
                "CREATE TABLE StudentBody (\n",
                "    UNITID INTEGER PRIMARY KEY,\n",
                "    SAT_AVG INTEGER,\n",
                "    ADM_RATE FLOAT,\n",
                "    PPTUG_EF FLOAT,\n",
                "    UGDS_WHITE FLOAT,\n",
                "    UGDS_BLACK FLOAT,\n",
                "    UGDS_HISP FLOAT,\n",
                "    UGDS_ASIAN FLOAT,\n",
                "    UGDS_NRA FLOAT,\n",
                "    UG INTEGER,\n",
                "    INEXPFTE INTEGER,\n",
                "    C150_4 INTEGER,\n",
                "    C150_L4 INTEGER,\n",
                "    TUITFTE INTEGER,\n",
                "    TUTIONFEE_IN INTEGER,\n",
                "    TUTIONFEE_OUT INTEGER,\n",
                "    TUTIONFEE_PROG INTEGER,\n",
                "    FOREIGN KEY (UNITID) REFERENCES InstitutionInformation(UNITID)\n",
                ");\n",
                "\n",
                "CREATE TABLE Debt (\n",
                "    UNITID INTEGER PRIMARY KEY,\n",
                "    GRAD_DEBT_MDN INTEGER,\n",
                "    WDRAW_DEBT_MDN INTEGER,\n",
                "    LO_INC_DEBT_MDN INTEGER,\n",
                "    MD_INC_DEBT_MDN INTEGER,\n",
                "    HI_INC_DEBT_MDN INTEGER,\n",
                "    DEP_DEBT_MDN INTEGER,\n",
                "    IND_DEBT_MDN INTEGER,\n",
                "    PELL_DEBT_MDN INTEGER,\n",
                "    NOPELL_DEBT_MDN INTEGER,\n",
                "    FEMALE_DEBT_MDN INTEGER,\n",
                "    MALE_DEBT_MDN INTEGER,\n",
                "    FIRSTGEN_DEBT_MDN INTEGER,\n",
                "    NOTFIRSTGEN_DEBT_MDN INTEGER,\n",
                "    CDR2 INTEGER,\n",
                "    CDR3 INTEGER,\n",
                "    FOREIGN KEY (UNITID) REFERENCES InstitutionInformation(UNITID)\n",
                ");\n",
                "\n",
                "CREATE TABLE StudentOutcomes (\n",
                "    UNITID INTEGER PRIMARY KEY,\n",
                "    MD_EARN_WNE_6 INTEGER,\n",
                "    PCT25_EARN_WNE_P6 INTEGER,\n",
                "    PCT75_EARN_WNE_P6 INTEGER,\n",
                "    COUNT_WNE_INC1_P6 INTEGER,\n",
                "    COUNT_WNE_INC2_P6 INTEGER,\n",
                "    COUNT_WNE_INC3_P6 INTEGER,\n",
                "    FOREIGN KEY (UNITID) REFERENCES InstitutionInformation(UNITID)\n",
                ");\n"
            ]
        },
        {
            "cell_type": "markdown",
            "metadata": {},
            "source": [
                "Comments:\n",
                "\n",
                "The basic entities in our schema are InstitutionInformation, StudentBody, Debt, and StudentOutcomes. We chose these four entities because we felt like they best described the information contained within the college scorecard database at the student and institution level. InstitutionInformation summarizes key information about the colleges/universities themselves in terms of identifying them, and telling us where they are, what degrees they offer, and other information about the university itself. StudentBody tells us overall information about the student body at each institution such as demographics, what their scores are, how many part time studnts there are, how much is spent on each student, and information about how much tuition students pay and what their degree completion rates are. Debt tells us summary statistics for how indebted students at each institution are (broken out by demographics) and what student default rates are. StudentOutcomes tells us about how students at each institution do after graduating or leaving school in terms of their salaries and employment outcomes. \n",
                "\n",
                "\n",
                "There is no redundant information in our database, as no information is repeated between tables except for the foreign keys linking them all together at the institution level. All information in each table is distinct from each other and does not overlap outside of the institution level. We made sure of this, and this is reflected in our schema design. "
            ]
        }
    ],
    "metadata": {
        "kernelspec": {
            "display_name": "SQL",
            "language": "sql",
            "name": "SQL"
        },
        "language_info": {
            "name": "sql",
            "version": ""
        }
    },
    "nbformat": 4,
    "nbformat_minor": 2
}
