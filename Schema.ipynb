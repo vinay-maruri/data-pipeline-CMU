{
    "cells": [
        {
            "cell_type": "markdown",
            "metadata": {},
            "source": [
                "Schema Design (College Scorecard Dataset)\n",
                "\n",
                "Vinay Maruri, Shane Hauck, Xiaowen Wu"
            ]
        },
        {
            "cell_type": "code",
            "execution_count": null,
            "metadata": {
                "azdata_cell_guid": "93bda33e-a41e-4486-8178-e33d71c07b53",
                "language": "sql"
            },
            "outputs": [],
            "source": [
                "CREATE TABLE InstitutionInformation (\n",
                "    unitid INTEGER PRIMARY KEY,\n",
                "    instnm TEXT,\n",
                "    location TEXT,\n",
                "    address TEXT,\n",
                "    region INTEGER,\n",
                "    control INTEGER,\n",
                "    ccbasic INTEGER,\n",
                "    censusids INTEGER,\n",
                "    latitude INTEGER,\n",
                "    longitude INTEGER,\n",
                "    accredagency TEXT,\n",
                "    preddeg INTEGER,\n",
                "    highdeg INTEGER,\n",
                "    avgfacsal INTEGER\n",
                ")\n",
                "\n",
                "CREATE TABLE StudentBody (\n",
                "    unitid INTEGER PRIMARY KEY,\n",
                "    sat_avg INTEGER,\n",
                "    adm_rate FLOAT,\n",
                "    pptug_ef FLOAT,\n",
                "    ugds_white FLOAT,\n",
                "    ugds_black FLOAT,\n",
                "    ugds_hisp FLOAT,\n",
                "    ugds_asian FLOAT,\n",
                "    ugds_NRA FLOAT,\n",
                "    ug INTEGER,\n",
                "    inexpfte INTEGER,\n",
                "    C150_4 INTEGER,\n",
                "    C150_L4 INTEGER,\n",
                "    tuitfte INTEGER,\n",
                "    tutionfee_in INTEGER,\n",
                "    tutionfee_out INTEGER,\n",
                "    tutionfee_prog INTEGER,\n",
                "    FOREIGN KEY (unitid) REFERENCES InstitutionInformation(unitid)\n",
                ")\n",
                "\n",
                "CREATE TABLE Debt (\n",
                "    unitid INTEGER PRIMARY KEY,\n",
                "    grad_debt_mdn INTEGER,\n",
                "    wdraw_debt_mdn INTEGER,\n",
                "    lo_inc_debt_mdn INTEGER,\n",
                "    md_inc_debt_mdn INTEGER,\n",
                "    hi_inc_debt_mdn INTEGER,\n",
                "    dep_debt_mdn INTEGER,\n",
                "    ind_debt_mdn INTEGER,\n",
                "    pell_debt_mdn INTEGER,\n",
                "    nopell_debt_mdn INTEGER,\n",
                "    female_debt_mdn INTEGER,\n",
                "    male_debt_mdn INTEGER,\n",
                "    firstgen_debt_mdn INTEGER,\n",
                "    notfirstgen_debt_mdn INTEGER,\n",
                "    CDR2 INTEGER,\n",
                "    CDR3 INTEGER,\n",
                "    FOREIGN KEY (unitid) REFERENCES InstitutionInformation(unitid)\n",
                ")\n",
                "\n",
                "CREATE TABLE StudentOutcomes (\n",
                "    unitid INTEGER PRIMARY KEY,\n",
                "    md_earn_wne_6 INTEGER,\n",
                "    pct25_earn_wne_p6 INTEGER,\n",
                "    pct75_earn_wne_p6 INTEGER\n",
                "    count_wne_inc1_p6 INTEGER,\n",
                "    count_wne_inc2_p6 INTEGER,\n",
                "    count_wne_inc3_p6 INTEGER,\n",
                "    FOREIGN KEY (unitid) REFERENCES InstitutionInformation(unitid)\n",
                ")\n"
            ]
        },
        {
            "cell_type": "markdown",
            "metadata": {},
            "source": [
                "Comments:\n",
                "\n",
                "The basic entities in our schema are InstitutionInformation, StudentBody, Debt, and StudentOutcomes. We chose these four entities because we felt like they best described the information contained within the college scorecard database at the student and institution level. InstitutionInformation summarizes key information about the colleges/universities themselves in terms of identifying them, and telling us where they are, what degrees they offer, and other information about the university itself. StudentBody tells us overall information about the student body at each institution such as demographics, what their scores are, how many part time studnts there are, how much is spent on each student, and information about how much tuition students pay and what their degree completion rates are. Debt tells us summary statistics for how indebted students at each institution are (broken out by demographics) and what student default rates are. StudentOutcomes tells us about how students at each institution do after graduating or leaving school in terms of their salaries and employment outcomes. \n",
                "\n",
                "\n",
                "There is no redundant information in our database, as no information is repeated between tables except for the foreign keys linking them all together at the institution level. All information in each table is distinct from each other and does not overlap outside of the institution level. We made sure of this, and this is reflected in our schema design. "
            ]
        }
    ],
    "metadata": {
        "kernelspec": {
            "display_name": "SQL",
            "language": "sql",
            "name": "SQL"
        },
        "language_info": {
            "name": "sql",
            "version": ""
        }
    },
    "nbformat": 4,
    "nbformat_minor": 2
}
